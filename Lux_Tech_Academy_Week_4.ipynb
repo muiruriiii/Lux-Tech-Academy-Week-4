{
  "nbformat": 4,
  "nbformat_minor": 0,
  "metadata": {
    "colab": {
      "provenance": [],
      "mount_file_id": "1ksLgA3wBps9xN6WIQ-fuDv4upTX85dwy",
      "authorship_tag": "ABX9TyN+E5smkBsGoLzMXBMNVD0X",
      "include_colab_link": true
    },
    "kernelspec": {
      "name": "python3",
      "display_name": "Python 3"
    },
    "language_info": {
      "name": "python"
    }
  },
  "cells": [
    {
      "cell_type": "markdown",
      "metadata": {
        "id": "view-in-github",
        "colab_type": "text"
      },
      "source": [
        "<a href=\"https://colab.research.google.com/github/muiruriiii/Lux-Tech-Academy-Week-4/blob/main/Lux_Tech_Academy_Week_4.ipynb\" target=\"_parent\"><img src=\"https://colab.research.google.com/assets/colab-badge.svg\" alt=\"Open In Colab\"/></a>"
      ]
    },
    {
      "cell_type": "markdown",
      "source": [
        "###Week 4 Project:\n",
        "\n",
        "###Using the Craigslist Vehicles Dataset available on Kaggle (https://www.kaggle.com/datasets/mbaabuharun/craigslist-vehicles), we'd like you to create a Time-Series Model following the approach outlined below.\n",
        "\n",
        "Here are the key steps:\n",
        "\n",
        "Start by addressing missing values in the dataset. You can handle this by filling in missing values with the median for numerical columns and the mode for categorical columns.\n",
        "Ensure that the data types of the columns are appropriate. Specifically, make sure to convert the 'posting_date' column to a datetime data type.\n",
        "Utilize the 'posting_date' column to create a datetime index for the dataset. This will facilitate the analysis of temporal patterns.\n",
        "With clean data, explore it using various visualizations and statistical analysis techniques. This step is crucial for understanding temporal patterns, identifying seasonal trends, and analyzing demand-supply dynamics by region and vehicle type.\n",
        "Build the time-series chart."
      ],
      "metadata": {
        "id": "YJCDLDuzX_fF"
      }
    },
    {
      "cell_type": "code",
      "source": [
        "from google.colab import drive\n",
        "drive.mount('/content/drive')"
      ],
      "metadata": {
        "colab": {
          "base_uri": "https://localhost:8080/"
        },
        "id": "947El9yAxD7w",
        "outputId": "7a3419f2-5d49-4866-81ac-84884b7bbdf9"
      },
      "execution_count": null,
      "outputs": [
        {
          "output_type": "stream",
          "name": "stdout",
          "text": [
            "Drive already mounted at /content/drive; to attempt to forcibly remount, call drive.mount(\"/content/drive\", force_remount=True).\n"
          ]
        }
      ]
    },
    {
      "cell_type": "code",
      "source": [
        "import os\n",
        "os.environ['KAGGLE_CONFIG_DIR'] = \"/content/drive/LUX\""
      ],
      "metadata": {
        "id": "-4vLnMubx0oc"
      },
      "execution_count": null,
      "outputs": []
    },
    {
      "cell_type": "code",
      "source": [
        "# Data Preprocessing\n",
        "# Addressing missing values in the dataset by filling in missing values\n",
        "# with the median for numerical columns and the mode for categorical columns.\n",
        "import pandas as pd\n",
        "import numpy as np\n",
        "import csv\n",
        "\n",
        "# Loading the dataset\n",
        "data = pd.read_csv(\"craigslist_vehicles.csv\")\n",
        "\n",
        "# Filling missing values with median for numerical columns and mode for categorical columns\n",
        "numerical_cols = data.select_dtypes(include=[np.number]).columns\n",
        "categorical_cols = data.select_dtypes(include=[np.object]).columns\n",
        "\n",
        "data[numerical_cols] = data[numerical_cols].fillna(data[numerical_cols].median())\n",
        "data[categorical_cols] = data[categorical_cols].fillna(data[categorical_cols].mode().iloc[0])\n"
      ],
      "metadata": {
        "id": "Pw0U6qOBYPVg"
      },
      "execution_count": null,
      "outputs": []
    },
    {
      "cell_type": "code",
      "source": [
        "# Data Type Conversion\n",
        "# Converting 'posting_date' column to datetime\n",
        "data['posting_date'] = pd.to_datetime(data['posting_date'])\n"
      ],
      "metadata": {
        "id": "XyLwKKTSY2VE"
      },
      "execution_count": null,
      "outputs": []
    },
    {
      "cell_type": "code",
      "source": [
        "# Creating a DateTime Index\n",
        "# Setting 'posting_date' as the index\n",
        "data.set_index('posting_date', inplace=True)"
      ],
      "metadata": {
        "id": "0-7ngJ8JZJe_"
      },
      "execution_count": null,
      "outputs": []
    },
    {
      "cell_type": "code",
      "source": [
        "# Data Exploration\n",
        "# Exploring the data using various visualizations\n",
        "import matplotlib.pyplot as plt\n",
        "\n",
        "# Exploring temporal patterns\n",
        "data['price'].resample('M').mean().plot(title='Average Price Over Time')\n",
        "plt.xlabel('Time')\n",
        "plt.ylabel('Average Price')\n",
        "plt.show()\n",
        "\n",
        "# Exploring seasonal trends\n",
        "data['price'].groupby(data.index.month).mean().plot(kind='bar', title='Monthly Average Price')\n",
        "plt.xlabel('Month')\n",
        "plt.ylabel('Average Price')\n",
        "plt.show()\n",
        "\n",
        "# Analyzing demand-supply dynamics by region and vehicle type\n",
        "demand_supply = data.groupby(['region', 'type']).size().unstack()\n",
        "demand_supply.plot(kind='bar', stacked=True, title='Demand-Supply Dynamics')\n",
        "plt.xlabel('Region')\n",
        "plt.ylabel('Count')\n",
        "plt.show()\n"
      ],
      "metadata": {
        "id": "6Pnk6MXvZPR3"
      },
      "execution_count": null,
      "outputs": []
    },
    {
      "cell_type": "code",
      "source": [
        "from statsmodels.tsa.seasonal import seasonal_decompose\n",
        "\n",
        "# Seasonal decomposition of price\n",
        "result = seasonal_decompose(data['price'], model='additive')\n",
        "result.plot()\n",
        "plt.show()"
      ],
      "metadata": {
        "id": "8bxfYBmkZdIU"
      },
      "execution_count": null,
      "outputs": []
    }
  ]
}